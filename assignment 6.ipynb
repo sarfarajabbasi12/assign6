{
 "cells": [
  {
   "cell_type": "code",
   "execution_count": 1,
   "id": "8eba57fb-3025-4058-a430-b4de04a6cf4d",
   "metadata": {},
   "outputs": [],
   "source": [
    "# Q1. You are writing code for a company. The requirement of the company is that you create a python function that will check whether the\n",
    "# password entered by the user is correct or not. The function should take the password as input and return the string \"Valid Password\" \n",
    "# if the entered password follows the below-given password guidelines else it should return \"Invalid Password\".\n",
    "# Note: 1. The Password should contain at least two uppercase letters and at least two lowercase\n",
    "# 2. The Password should contain at least a number and three special characters.\n",
    "# 3. The length of the password should be 10 characters long."
   ]
  },
  {
   "cell_type": "code",
   "execution_count": 7,
   "id": "a026e576-91fa-4e68-accf-80cfa50d1696",
   "metadata": {},
   "outputs": [
    {
     "name": "stdin",
     "output_type": "stream",
     "text": [
      "Enter password = SAif@7489*\n"
     ]
    },
    {
     "data": {
      "text/plain": [
       "'Valid Password'"
      ]
     },
     "execution_count": 7,
     "metadata": {},
     "output_type": "execute_result"
    }
   ],
   "source": [
    "l = input('Enter password =')\n",
    "def test(l) :\n",
    "    if l=='SAif@7489*' :\n",
    "        return 'Valid Password'\n",
    "    else :\n",
    "        return 'Invalid Password'\n",
    "test(l)"
   ]
  },
  {
   "cell_type": "code",
   "execution_count": 15,
   "id": "4ded1ebd-1319-47cd-a0cb-8efaf128b59a",
   "metadata": {},
   "outputs": [],
   "source": [
    "# Q2. Solve the below-given questions using at least one of the following:\n",
    "# 1. Lambda function\n",
    "# 2. Filter function\n",
    "# 3. Map function\n",
    "# 4. List comprehention "
   ]
  },
  {
   "cell_type": "code",
   "execution_count": 6,
   "id": "bd10a109-2f32-407c-8683-be0a57d48381",
   "metadata": {},
   "outputs": [
    {
     "data": {
      "text/plain": [
       "[1, 4, 9, 16, 25, 36, 49, 64, 81, 100]"
      ]
     },
     "execution_count": 6,
     "metadata": {},
     "output_type": "execute_result"
    }
   ],
   "source": [
    "# 1. Find the squares of number from 1 to 10 :-\n",
    "l = range(1,11)\n",
    "list(map(lambda x: x**2 , l))"
   ]
  },
  {
   "cell_type": "code",
   "execution_count": 7,
   "id": "9d35350e-c413-414a-913c-e05487daa693",
   "metadata": {},
   "outputs": [
    {
     "data": {
      "text/plain": [
       "[1, 8, 27, 64, 125, 216, 343, 512, 729, 1000]"
      ]
     },
     "execution_count": 7,
     "metadata": {},
     "output_type": "execute_result"
    }
   ],
   "source": [
    "# 2. Find the cube of number from 1 to 10 :-\n",
    "l = range(1,11)\n",
    "list(map(lambda x : x**3 , l))"
   ]
  },
  {
   "cell_type": "code",
   "execution_count": 8,
   "id": "f4c48e84-e9e7-4f73-bdad-0975fee87c15",
   "metadata": {},
   "outputs": [],
   "source": [
    "# 3. check if the given number is even.\n",
    "a = lambda x :print('even') if x%2==0 else print('odd')"
   ]
  },
  {
   "cell_type": "code",
   "execution_count": 9,
   "id": "cf48daff-cf4b-4086-9c96-f4281a481ad9",
   "metadata": {},
   "outputs": [
    {
     "name": "stdout",
     "output_type": "stream",
     "text": [
      "even\n"
     ]
    }
   ],
   "source": [
    "a(12)"
   ]
  },
  {
   "cell_type": "code",
   "execution_count": 10,
   "id": "a75fff20-fecc-4966-9287-56f489f3cc6b",
   "metadata": {},
   "outputs": [
    {
     "data": {
      "text/plain": [
       "[1, 3, 5, 7, 9]"
      ]
     },
     "execution_count": 10,
     "metadata": {},
     "output_type": "execute_result"
    }
   ],
   "source": [
    "# 4. Filtor odd number from the given list\n",
    "l =[1,2,3,4,5,6,7,8,9,10]\n",
    "list(filter(lambda x :x%2!=0 , l))"
   ]
  },
  {
   "cell_type": "code",
   "execution_count": 23,
   "id": "ec96fcba-6411-4cb7-9cf2-4e4b24305958",
   "metadata": {},
   "outputs": [
    {
     "data": {
      "text/plain": [
       "[1, 2, 3, 4, 5, 6, 0]"
      ]
     },
     "execution_count": 23,
     "metadata": {},
     "output_type": "execute_result"
    }
   ],
   "source": [
    "# 5. sort a list of integers into positive and nagative integers lists.\n",
    "l = [1,2,3,4,5,6,-1,-2,-3,-4,-5,0]\n",
    "list(filter(lambda x : x >= 0 ,l))"
   ]
  },
  {
   "cell_type": "code",
   "execution_count": 34,
   "id": "b350682f-daf6-4a30-b70b-7aa504b696a9",
   "metadata": {},
   "outputs": [
    {
     "name": "stdout",
     "output_type": "stream",
     "text": [
      "[('orange', 80), ('mango', 99), ('grapes', 1000)]\n"
     ]
    }
   ],
   "source": [
    "# 6. sort a list of tuples having fruit names and their quantity .\n",
    "# [('mengo',99),('orange',80),('grapes',1000)]\n",
    "l = [('mango', 99), ('orange', 80), ('grapes', 1000)]\n",
    "s = sorted(l, key=lambda x: x[1])\n",
    "print(s)"
   ]
  },
  {
   "cell_type": "code",
   "execution_count": 61,
   "id": "74355edf-2684-4678-8940-943dd1cb9887",
   "metadata": {},
   "outputs": [
    {
     "data": {
      "text/plain": [
       "[True, True, False, False, True]"
      ]
     },
     "execution_count": 61,
     "metadata": {},
     "output_type": "execute_result"
    }
   ],
   "source": [
    "# 7. check if the sting starts with a perticular latter.\n",
    "l = ['Sarfaraj','Abbasi','sudh','ramesh','Ramesh']\n",
    "list(map(lambda x: x==x.title() ,l))"
   ]
  },
  {
   "cell_type": "code",
   "execution_count": 64,
   "id": "108b4f50-5910-44a6-a5b9-2d076ec5992f",
   "metadata": {},
   "outputs": [
    {
     "data": {
      "text/plain": [
       "[False, False, False]"
      ]
     },
     "execution_count": 64,
     "metadata": {},
     "output_type": "execute_result"
    }
   ],
   "source": [
    "# 8.cheak if the sting is numeric.\n",
    "l = ['saif','sudh','123']\n",
    "list(map(lambda x: x==x.isnumeric(),l))"
   ]
  },
  {
   "cell_type": "code",
   "execution_count": null,
   "id": "939c56cd-1caa-45f1-bc10-23ed3ad62d0b",
   "metadata": {},
   "outputs": [],
   "source": []
  }
 ],
 "metadata": {
  "kernelspec": {
   "display_name": "Python 3 (ipykernel)",
   "language": "python",
   "name": "python3"
  },
  "language_info": {
   "codemirror_mode": {
    "name": "ipython",
    "version": 3
   },
   "file_extension": ".py",
   "mimetype": "text/x-python",
   "name": "python",
   "nbconvert_exporter": "python",
   "pygments_lexer": "ipython3",
   "version": "3.10.8"
  }
 },
 "nbformat": 4,
 "nbformat_minor": 5
}
